{
 "cells": [
  {
   "cell_type": "markdown",
   "id": "37a61282",
   "metadata": {},
   "source": [
    "1. Считать данные из файла и вывести последние 20 его строк (метод tail()). \n",
    "2. Проверить наличие пропусков в файле. Если пропуски найдены, то заменить их на среднее значение во всех числовых столбцах. \n",
    "3. Вычислить количество мужчин и женщин старше 20 лет. И для каждого пола определить суммарный доход (столбец Annual Income). \n",
    "4. Оценить корреляцию Пирсона для столбцов Age и Genre (преобразовать данные столбца Genre в числовые значения). \n",
    "5. Сохранить в новый файл (output.csv) данные по покупателям, у которых доход (Annual Income) >100. \n",
    "6. Для данных о покупателях построить диаграмму рассеивания зависимости расходов от возраста. \n",
    "7. Построить столбчатую диаграмму по распределению возрастов (по интервалу 10 лет). \n"
   ]
  },
  {
   "cell_type": "code",
   "execution_count": 109,
   "id": "8c6f0053",
   "metadata": {},
   "outputs": [],
   "source": [
    "import pandas as pd\n",
    "import numpy as np\n",
    "import matplotlib.pyplot as plt"
   ]
  },
  {
   "cell_type": "markdown",
   "id": "8d40257e",
   "metadata": {},
   "source": [
    "### Считать данные из файла и вывести последние 20 его строк (метод tail())."
   ]
  },
  {
   "cell_type": "code",
   "execution_count": 110,
   "id": "69a8115e",
   "metadata": {},
   "outputs": [
    {
     "data": {
      "text/html": [
       "<div>\n",
       "<style scoped>\n",
       "    .dataframe tbody tr th:only-of-type {\n",
       "        vertical-align: middle;\n",
       "    }\n",
       "\n",
       "    .dataframe tbody tr th {\n",
       "        vertical-align: top;\n",
       "    }\n",
       "\n",
       "    .dataframe thead th {\n",
       "        text-align: right;\n",
       "    }\n",
       "</style>\n",
       "<table border=\"1\" class=\"dataframe\">\n",
       "  <thead>\n",
       "    <tr style=\"text-align: right;\">\n",
       "      <th></th>\n",
       "      <th>CustomerID</th>\n",
       "      <th>Genre</th>\n",
       "      <th>Age</th>\n",
       "      <th>AnnualIncome</th>\n",
       "      <th>Spending Score (1-100)</th>\n",
       "    </tr>\n",
       "  </thead>\n",
       "  <tbody>\n",
       "    <tr>\n",
       "      <th>180</th>\n",
       "      <td>181</td>\n",
       "      <td>Female</td>\n",
       "      <td>37.0</td>\n",
       "      <td>97.0</td>\n",
       "      <td>32.0</td>\n",
       "    </tr>\n",
       "    <tr>\n",
       "      <th>181</th>\n",
       "      <td>182</td>\n",
       "      <td>Female</td>\n",
       "      <td>32.0</td>\n",
       "      <td>97.0</td>\n",
       "      <td>86.0</td>\n",
       "    </tr>\n",
       "    <tr>\n",
       "      <th>182</th>\n",
       "      <td>183</td>\n",
       "      <td>Male</td>\n",
       "      <td>46.0</td>\n",
       "      <td>98.0</td>\n",
       "      <td>15.0</td>\n",
       "    </tr>\n",
       "    <tr>\n",
       "      <th>183</th>\n",
       "      <td>184</td>\n",
       "      <td>Female</td>\n",
       "      <td>29.0</td>\n",
       "      <td>98.0</td>\n",
       "      <td>88.0</td>\n",
       "    </tr>\n",
       "    <tr>\n",
       "      <th>184</th>\n",
       "      <td>185</td>\n",
       "      <td>Female</td>\n",
       "      <td>41.0</td>\n",
       "      <td>99.0</td>\n",
       "      <td>39.0</td>\n",
       "    </tr>\n",
       "    <tr>\n",
       "      <th>185</th>\n",
       "      <td>186</td>\n",
       "      <td>Male</td>\n",
       "      <td>30.0</td>\n",
       "      <td>99.0</td>\n",
       "      <td>97.0</td>\n",
       "    </tr>\n",
       "    <tr>\n",
       "      <th>186</th>\n",
       "      <td>187</td>\n",
       "      <td>Female</td>\n",
       "      <td>54.0</td>\n",
       "      <td>101.0</td>\n",
       "      <td>24.0</td>\n",
       "    </tr>\n",
       "    <tr>\n",
       "      <th>187</th>\n",
       "      <td>188</td>\n",
       "      <td>Male</td>\n",
       "      <td>28.0</td>\n",
       "      <td>101.0</td>\n",
       "      <td>68.0</td>\n",
       "    </tr>\n",
       "    <tr>\n",
       "      <th>188</th>\n",
       "      <td>189</td>\n",
       "      <td>Female</td>\n",
       "      <td>41.0</td>\n",
       "      <td>103.0</td>\n",
       "      <td>17.0</td>\n",
       "    </tr>\n",
       "    <tr>\n",
       "      <th>189</th>\n",
       "      <td>190</td>\n",
       "      <td>Female</td>\n",
       "      <td>36.0</td>\n",
       "      <td>103.0</td>\n",
       "      <td>85.0</td>\n",
       "    </tr>\n",
       "    <tr>\n",
       "      <th>190</th>\n",
       "      <td>191</td>\n",
       "      <td>Female</td>\n",
       "      <td>34.0</td>\n",
       "      <td>103.0</td>\n",
       "      <td>23.0</td>\n",
       "    </tr>\n",
       "    <tr>\n",
       "      <th>191</th>\n",
       "      <td>192</td>\n",
       "      <td>Female</td>\n",
       "      <td>NaN</td>\n",
       "      <td>103.0</td>\n",
       "      <td>69.0</td>\n",
       "    </tr>\n",
       "    <tr>\n",
       "      <th>192</th>\n",
       "      <td>193</td>\n",
       "      <td>Male</td>\n",
       "      <td>33.0</td>\n",
       "      <td>NaN</td>\n",
       "      <td>8.0</td>\n",
       "    </tr>\n",
       "    <tr>\n",
       "      <th>193</th>\n",
       "      <td>194</td>\n",
       "      <td>Female</td>\n",
       "      <td>38.0</td>\n",
       "      <td>113.0</td>\n",
       "      <td>NaN</td>\n",
       "    </tr>\n",
       "    <tr>\n",
       "      <th>194</th>\n",
       "      <td>195</td>\n",
       "      <td>Female</td>\n",
       "      <td>47.0</td>\n",
       "      <td>120.0</td>\n",
       "      <td>16.0</td>\n",
       "    </tr>\n",
       "    <tr>\n",
       "      <th>195</th>\n",
       "      <td>196</td>\n",
       "      <td>Female</td>\n",
       "      <td>35.0</td>\n",
       "      <td>120.0</td>\n",
       "      <td>79.0</td>\n",
       "    </tr>\n",
       "    <tr>\n",
       "      <th>196</th>\n",
       "      <td>197</td>\n",
       "      <td>Female</td>\n",
       "      <td>45.0</td>\n",
       "      <td>126.0</td>\n",
       "      <td>28.0</td>\n",
       "    </tr>\n",
       "    <tr>\n",
       "      <th>197</th>\n",
       "      <td>198</td>\n",
       "      <td>Male</td>\n",
       "      <td>NaN</td>\n",
       "      <td>126.0</td>\n",
       "      <td>74.0</td>\n",
       "    </tr>\n",
       "    <tr>\n",
       "      <th>198</th>\n",
       "      <td>199</td>\n",
       "      <td>Male</td>\n",
       "      <td>32.0</td>\n",
       "      <td>NaN</td>\n",
       "      <td>18.0</td>\n",
       "    </tr>\n",
       "    <tr>\n",
       "      <th>199</th>\n",
       "      <td>200</td>\n",
       "      <td>Male</td>\n",
       "      <td>30.0</td>\n",
       "      <td>137.0</td>\n",
       "      <td>NaN</td>\n",
       "    </tr>\n",
       "  </tbody>\n",
       "</table>\n",
       "</div>"
      ],
      "text/plain": [
       "     CustomerID   Genre   Age  AnnualIncome  Spending Score (1-100)\n",
       "180         181  Female  37.0          97.0                    32.0\n",
       "181         182  Female  32.0          97.0                    86.0\n",
       "182         183    Male  46.0          98.0                    15.0\n",
       "183         184  Female  29.0          98.0                    88.0\n",
       "184         185  Female  41.0          99.0                    39.0\n",
       "185         186    Male  30.0          99.0                    97.0\n",
       "186         187  Female  54.0         101.0                    24.0\n",
       "187         188    Male  28.0         101.0                    68.0\n",
       "188         189  Female  41.0         103.0                    17.0\n",
       "189         190  Female  36.0         103.0                    85.0\n",
       "190         191  Female  34.0         103.0                    23.0\n",
       "191         192  Female   NaN         103.0                    69.0\n",
       "192         193    Male  33.0           NaN                     8.0\n",
       "193         194  Female  38.0         113.0                     NaN\n",
       "194         195  Female  47.0         120.0                    16.0\n",
       "195         196  Female  35.0         120.0                    79.0\n",
       "196         197  Female  45.0         126.0                    28.0\n",
       "197         198    Male   NaN         126.0                    74.0\n",
       "198         199    Male  32.0           NaN                    18.0\n",
       "199         200    Male  30.0         137.0                     NaN"
      ]
     },
     "execution_count": 110,
     "metadata": {},
     "output_type": "execute_result"
    }
   ],
   "source": [
    "data = pd.read_csv(r\"C:\\Users\\Admin/OneDrive/Рабочий стол/СМП/Mall_Customers_1.csv\")\n",
    "data.tail(20)"
   ]
  },
  {
   "cell_type": "markdown",
   "id": "6c909cc3",
   "metadata": {},
   "source": [
    "### Проверить наличие пропусков в файле. Если пропуски найдены, то заменить их на среднее значение во всех числовых столбцах."
   ]
  },
  {
   "cell_type": "code",
   "execution_count": 52,
   "id": "eabf9736",
   "metadata": {},
   "outputs": [
    {
     "data": {
      "text/plain": [
       "CustomerID                0\n",
       "Genre                     0\n",
       "Age                       5\n",
       "AnnualIncome              4\n",
       "Spending Score (1-100)    3\n",
       "dtype: int64"
      ]
     },
     "execution_count": 52,
     "metadata": {},
     "output_type": "execute_result"
    }
   ],
   "source": [
    "data.isnull().sum()"
   ]
  },
  {
   "cell_type": "code",
   "execution_count": 53,
   "id": "520b17df",
   "metadata": {},
   "outputs": [
    {
     "data": {
      "text/plain": [
       "CustomerID                0\n",
       "Genre                     0\n",
       "Age                       0\n",
       "AnnualIncome              0\n",
       "Spending Score (1-100)    0\n",
       "dtype: int64"
      ]
     },
     "execution_count": 53,
     "metadata": {},
     "output_type": "execute_result"
    }
   ],
   "source": [
    "data['Age'] = data['Age'].fillna(data.Age.median())\n",
    "data['AnnualIncome'] = data['AnnualIncome'].fillna(data.Age.median())\n",
    "data['Spending Score (1-100)'] = data['Spending Score (1-100)'].fillna(data.Age.median())\n",
    "data.isnull().sum()"
   ]
  },
  {
   "cell_type": "markdown",
   "id": "c2e47252",
   "metadata": {},
   "source": [
    "### Вычислить количество мужчин и женщин старше 20 лет. И для каждого пола определить суммарный доход (столбец Annual Income)."
   ]
  },
  {
   "cell_type": "code",
   "execution_count": 54,
   "id": "06b1b57c",
   "metadata": {},
   "outputs": [
    {
     "name": "stdout",
     "output_type": "stream",
     "text": [
      "Количество женщин: 108\n",
      "Количество мужчин: 77\n"
     ]
    },
    {
     "data": {
      "text/html": [
       "<div>\n",
       "<style scoped>\n",
       "    .dataframe tbody tr th:only-of-type {\n",
       "        vertical-align: middle;\n",
       "    }\n",
       "\n",
       "    .dataframe tbody tr th {\n",
       "        vertical-align: top;\n",
       "    }\n",
       "\n",
       "    .dataframe thead th {\n",
       "        text-align: right;\n",
       "    }\n",
       "</style>\n",
       "<table border=\"1\" class=\"dataframe\">\n",
       "  <thead>\n",
       "    <tr style=\"text-align: right;\">\n",
       "      <th></th>\n",
       "      <th>Genre</th>\n",
       "      <th>AnnualIncome</th>\n",
       "    </tr>\n",
       "  </thead>\n",
       "  <tbody>\n",
       "    <tr>\n",
       "      <th>0</th>\n",
       "      <td>Female</td>\n",
       "      <td>6424.0</td>\n",
       "    </tr>\n",
       "    <tr>\n",
       "      <th>1</th>\n",
       "      <td>Male</td>\n",
       "      <td>4711.0</td>\n",
       "    </tr>\n",
       "  </tbody>\n",
       "</table>\n",
       "</div>"
      ],
      "text/plain": [
       "    Genre  AnnualIncome\n",
       "0  Female        6424.0\n",
       "1    Male        4711.0"
      ]
     },
     "execution_count": 54,
     "metadata": {},
     "output_type": "execute_result"
    }
   ],
   "source": [
    "number_of_women = data.query('Genre == \"Female\" and Age > 20.0').count()[0]\n",
    "print('Количество женщин:', number_of_women)\n",
    "number_of_men = data.query('Genre == \"Male\" and Age > 20.0').count()[0]\n",
    "print('Количество мужчин:', number_of_men)\n",
    "data.query('Age > 20.0').groupby('Genre', as_index = False).agg({'AnnualIncome':'sum'})"
   ]
  },
  {
   "cell_type": "markdown",
   "id": "e9ee1936",
   "metadata": {},
   "source": [
    "### Оценить корреляцию Пирсона для столбцов Age и Genre (преобразовать данные столбца Genre в числовые значения)."
   ]
  },
  {
   "cell_type": "code",
   "execution_count": 60,
   "id": "4aad138d",
   "metadata": {},
   "outputs": [
    {
     "name": "stdout",
     "output_type": "stream",
     "text": [
      "Корреляция Пирсона равна 0.06336682559187526\n"
     ]
    }
   ],
   "source": [
    "data['Genre'] = data['Genre'].replace(['Male', 'Female'],[1,0])\n",
    "correlation = data['Age'].corr(data['Genre'])\n",
    "print('Корреляция Пирсона равна', correlation)"
   ]
  },
  {
   "cell_type": "markdown",
   "id": "919b42bc",
   "metadata": {},
   "source": [
    "### Сохранить в новый файл (output.csv) данные по покупателям, у которых доход (Annual Income) >100."
   ]
  },
  {
   "cell_type": "code",
   "execution_count": 64,
   "id": "84bf3124",
   "metadata": {},
   "outputs": [
    {
     "data": {
      "text/html": [
       "<div>\n",
       "<style scoped>\n",
       "    .dataframe tbody tr th:only-of-type {\n",
       "        vertical-align: middle;\n",
       "    }\n",
       "\n",
       "    .dataframe tbody tr th {\n",
       "        vertical-align: top;\n",
       "    }\n",
       "\n",
       "    .dataframe thead th {\n",
       "        text-align: right;\n",
       "    }\n",
       "</style>\n",
       "<table border=\"1\" class=\"dataframe\">\n",
       "  <thead>\n",
       "    <tr style=\"text-align: right;\">\n",
       "      <th></th>\n",
       "      <th>Unnamed: 0</th>\n",
       "      <th>CustomerID</th>\n",
       "      <th>Genre</th>\n",
       "      <th>Age</th>\n",
       "      <th>AnnualIncome</th>\n",
       "      <th>Spending Score (1-100)</th>\n",
       "    </tr>\n",
       "  </thead>\n",
       "  <tbody>\n",
       "    <tr>\n",
       "      <th>0</th>\n",
       "      <td>186</td>\n",
       "      <td>187</td>\n",
       "      <td>0</td>\n",
       "      <td>54.0</td>\n",
       "      <td>101.0</td>\n",
       "      <td>24.0</td>\n",
       "    </tr>\n",
       "    <tr>\n",
       "      <th>1</th>\n",
       "      <td>187</td>\n",
       "      <td>188</td>\n",
       "      <td>1</td>\n",
       "      <td>28.0</td>\n",
       "      <td>101.0</td>\n",
       "      <td>68.0</td>\n",
       "    </tr>\n",
       "    <tr>\n",
       "      <th>2</th>\n",
       "      <td>188</td>\n",
       "      <td>189</td>\n",
       "      <td>0</td>\n",
       "      <td>41.0</td>\n",
       "      <td>103.0</td>\n",
       "      <td>17.0</td>\n",
       "    </tr>\n",
       "    <tr>\n",
       "      <th>3</th>\n",
       "      <td>189</td>\n",
       "      <td>190</td>\n",
       "      <td>0</td>\n",
       "      <td>36.0</td>\n",
       "      <td>103.0</td>\n",
       "      <td>85.0</td>\n",
       "    </tr>\n",
       "    <tr>\n",
       "      <th>4</th>\n",
       "      <td>190</td>\n",
       "      <td>191</td>\n",
       "      <td>0</td>\n",
       "      <td>34.0</td>\n",
       "      <td>103.0</td>\n",
       "      <td>23.0</td>\n",
       "    </tr>\n",
       "    <tr>\n",
       "      <th>5</th>\n",
       "      <td>191</td>\n",
       "      <td>192</td>\n",
       "      <td>0</td>\n",
       "      <td>36.0</td>\n",
       "      <td>103.0</td>\n",
       "      <td>69.0</td>\n",
       "    </tr>\n",
       "    <tr>\n",
       "      <th>6</th>\n",
       "      <td>193</td>\n",
       "      <td>194</td>\n",
       "      <td>0</td>\n",
       "      <td>38.0</td>\n",
       "      <td>113.0</td>\n",
       "      <td>36.0</td>\n",
       "    </tr>\n",
       "    <tr>\n",
       "      <th>7</th>\n",
       "      <td>194</td>\n",
       "      <td>195</td>\n",
       "      <td>0</td>\n",
       "      <td>47.0</td>\n",
       "      <td>120.0</td>\n",
       "      <td>16.0</td>\n",
       "    </tr>\n",
       "    <tr>\n",
       "      <th>8</th>\n",
       "      <td>195</td>\n",
       "      <td>196</td>\n",
       "      <td>0</td>\n",
       "      <td>35.0</td>\n",
       "      <td>120.0</td>\n",
       "      <td>79.0</td>\n",
       "    </tr>\n",
       "    <tr>\n",
       "      <th>9</th>\n",
       "      <td>196</td>\n",
       "      <td>197</td>\n",
       "      <td>0</td>\n",
       "      <td>45.0</td>\n",
       "      <td>126.0</td>\n",
       "      <td>28.0</td>\n",
       "    </tr>\n",
       "    <tr>\n",
       "      <th>10</th>\n",
       "      <td>197</td>\n",
       "      <td>198</td>\n",
       "      <td>1</td>\n",
       "      <td>36.0</td>\n",
       "      <td>126.0</td>\n",
       "      <td>74.0</td>\n",
       "    </tr>\n",
       "    <tr>\n",
       "      <th>11</th>\n",
       "      <td>199</td>\n",
       "      <td>200</td>\n",
       "      <td>1</td>\n",
       "      <td>30.0</td>\n",
       "      <td>137.0</td>\n",
       "      <td>36.0</td>\n",
       "    </tr>\n",
       "  </tbody>\n",
       "</table>\n",
       "</div>"
      ],
      "text/plain": [
       "    Unnamed: 0  CustomerID  Genre   Age  AnnualIncome  Spending Score (1-100)\n",
       "0          186         187      0  54.0         101.0                    24.0\n",
       "1          187         188      1  28.0         101.0                    68.0\n",
       "2          188         189      0  41.0         103.0                    17.0\n",
       "3          189         190      0  36.0         103.0                    85.0\n",
       "4          190         191      0  34.0         103.0                    23.0\n",
       "5          191         192      0  36.0         103.0                    69.0\n",
       "6          193         194      0  38.0         113.0                    36.0\n",
       "7          194         195      0  47.0         120.0                    16.0\n",
       "8          195         196      0  35.0         120.0                    79.0\n",
       "9          196         197      0  45.0         126.0                    28.0\n",
       "10         197         198      1  36.0         126.0                    74.0\n",
       "11         199         200      1  30.0         137.0                    36.0"
      ]
     },
     "execution_count": 64,
     "metadata": {},
     "output_type": "execute_result"
    }
   ],
   "source": [
    "new_data = data.query('AnnualIncome > 100')\n",
    "new_data.to_csv('output.csv')\n",
    "output_data = pd.read_csv(r\"C:\\Users\\Admin/OneDrive/Рабочий стол/СМП/output.csv\")\n",
    "output_data"
   ]
  },
  {
   "cell_type": "markdown",
   "id": "02b946a7",
   "metadata": {},
   "source": [
    "### Для данных о покупателях построить диаграмму рассеивания зависимости расходов от возраста."
   ]
  },
  {
   "cell_type": "code",
   "execution_count": 70,
   "id": "432869b4",
   "metadata": {},
   "outputs": [
    {
     "data": {
      "image/png": "[encoded data removed]",
      "text/plain": [
       "<Figure size 1400x800 with 1 Axes>"
      ]
     },
     "metadata": {},
     "output_type": "display_data"
    }
   ],
   "source": [
    "plt.figure(figsize=(14, 8))\n",
    "plt.scatter(data['Age'], data['Spending Score (1-100)'])\n",
    "plt.xlabel('Age')\n",
    "plt.ylabel('Spending Score (1-100)')\n",
    "plt.title('Диаграмма рассеивания зависимости расходов от возраста')\n",
    "plt.show()"
   ]
  },
  {
   "cell_type": "markdown",
   "id": "d3ccc225",
   "metadata": {},
   "source": [
    "### Построить столбчатую диаграмму по распределению возрастов (по интервалу 10 лет)."
   ]
  },
  {
   "cell_type": "code",
   "execution_count": 111,
   "id": "2a284ead",
   "metadata": {},
   "outputs": [
    {
     "data": {
      "text/plain": [
       "70"
      ]
     },
     "execution_count": 111,
     "metadata": {},
     "output_type": "execute_result"
    }
   ],
   "source": [
    "max_age = data['Age'].max()\n",
    "max_age = int(max_age)\n",
    "max_age"
   ]
  },
  {
   "cell_type": "code",
   "execution_count": 115,
   "id": "8372f97a",
   "metadata": {},
   "outputs": [
    {
     "data": {
      "image/png": "[encoded data removed]",
      "text/plain": [
       "<Figure size 640x480 with 1 Axes>"
      ]
     },
     "metadata": {},
     "output_type": "display_data"
    }
   ],
   "source": [
    "age_groups = pd.cut(data['Age'], bins=range(0, 100, 10), right=False)\n",
    "age_distribution = age_groups.value_counts().sort_index()\n",
    "age_distribution.plot(kind='bar')\n",
    "plt.xlabel('Группа возрастов')\n",
    "plt.ylabel('Количество')\n",
    "plt.title('Распределение возрастов')\n",
    "plt.show()"
   ]
  },
  {
   "cell_type": "code",
   "execution_count": null,
   "id": "e021e6e7",
   "metadata": {},
   "outputs": [],
   "source": []
  }
 ],
 "metadata": {
  "kernelspec": {
   "display_name": "Python 3 (ipykernel)",
   "language": "python",
   "name": "python3"
  },
  "language_info": {
   "codemirror_mode": {
    "name": "ipython",
    "version": 3
   },
   "file_extension": ".py",
   "mimetype": "text/x-python",
   "name": "python",
   "nbconvert_exporter": "python",
   "pygments_lexer": "ipython3",
   "version": "3.11.3"
  }
 },
 "nbformat": 4,
 "nbformat_minor": 5
}

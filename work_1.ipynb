{
 "cells": [
  {
   "cell_type": "markdown",
   "metadata": {
    "id": "V0s5x0tp9iHC"
   },
   "source": [
    "# Лабораторная работа №1\n",
    "\n",
    "**Требования:**\n",
    "* Python >= 3.X\n",
    "\n",
    "Лабораторную работу необходимо выполнять в данном шаблоне. Результатом работы будет являться файл (с измененным именем), который необходимо выложить в Moodle.\n",
    "\n",
    "**Важно!!!** Имя файлу задавайте по следующему шаблону **lab_1.1_Группа_ФамилияИО.ipynb**. Например: если Вас зовут Иванов Иван Иванович, и Вы обучаетесь в группе 6207_010302D, то имя файла будет выглядеть так **lab_1.1_6207_010302D_ИвановИИ.ipynb**.\n",
    "\n",
    "P.S. модулями (библиотеками) пользоваться запрещено!"
   ]
  },
  {
   "cell_type": "markdown",
   "metadata": {
    "id": "uUMrPIeW9iHD"
   },
   "source": [
    "### Задача № 1\n",
    "\n",
    "Числа Фибоначчи - это такая последовательность, в которой первые два числа равны 0 и 1 соответствено, а каждый последующий член является суммой двух предыдущих членов.\n",
    "\n",
    "Начало последовательности выглядит следующим образом:\n",
    "\n",
    "| Индекс | Значение |\n",
    "| --- | --- |\n",
    "| 0 | 0 |\n",
    "| 1 | 1 |\n",
    "| 2 | 1 |\n",
    "| 3 | 2 |\n",
    "| 4 | 3 |\n",
    "| 5 | 5 |\n",
    "| 6 | 8 |\n",
    "| 7 | 13 |\n",
    "| 8 | 21 |\n",
    "| ... | ... |\n",
    "\n",
    "Более строго последовательность можно задать рекуррентным  соотношением:\n",
    "\n",
    "$$F_0 = 0,\\quad F_1 = 1,\\quad F_i = F_{i-1} + F_{i-2}.$$\n",
    "\n",
    "Напишите алгоритм генерации и вывода с n-го по k-й элементов данной числовой последовательности. Хранить элементы не надо, их необходимо только вывести (используйте `print(...)`).\n",
    "\n",
    "Пример вывода для `n = 2` и `k = 8`:\n",
    "\n",
    "`1`\n",
    "\n",
    "`2`\n",
    "\n",
    "`3`\n",
    "\n",
    "`5`\n",
    "\n",
    "`8`\n",
    "\n",
    "`13`\n",
    "\n",
    "`21`"
   ]
  },
  {
   "cell_type": "code",
   "execution_count": null,
   "metadata": {
    "id": "QnuHvt_P9iHD"
   },
   "outputs": [],
   "source": [
    "# Просто выполните данную ячейку. n и k уже заданы,\n",
    "# используйте их при постоении вашего алгоритма\n",
    "n = 8\n",
    "k = 30"
   ]
  },
  {
   "cell_type": "markdown",
   "metadata": {
    "id": "zFobEDk-9iHE"
   },
   "source": [
    "#### Решение"
   ]
  },
  {
   "cell_type": "code",
   "execution_count": null,
   "metadata": {
    "colab": {
     "base_uri": "https://localhost:8080/"
    },
    "executionInfo": {
     "elapsed": 7,
     "status": "ok",
     "timestamp": 1678720383703,
     "user": {
      "displayName": "Atom11_086",
      "userId": "12316745591329105084"
     },
     "user_tz": -240
    },
    "id": "06pipVPP9iHE",
    "outputId": "f6be4c59-ed2d-4b7f-fb64-896c3ab709bf"
   },
   "outputs": [
    {
     "name": "stdout",
     "output_type": "stream",
     "text": [
      "21\n",
      "34\n",
      "55\n",
      "89\n",
      "144\n",
      "233\n",
      "377\n",
      "610\n",
      "987\n",
      "1597\n",
      "2584\n",
      "4181\n",
      "6765\n",
      "10946\n",
      "17711\n",
      "28657\n",
      "46368\n",
      "75025\n",
      "121393\n",
      "196418\n",
      "317811\n",
      "514229\n",
      "832040\n"
     ]
    }
   ],
   "source": [
    "# вставить код сюда\n",
    "f_0, f_1 = 0, 1\n",
    "n = 8\n",
    "k = 30\n",
    "for i in range(2, k+1):\n",
    "  f_0, f_1 = f_1, f_1 + f_0\n",
    "  if n <= i <= k:\n",
    "    print(f_1)"
   ]
  },
  {
   "cell_type": "markdown",
   "metadata": {
    "id": "w8gfv86C9iHE"
   },
   "source": [
    "### Задача № 2\n",
    "\n",
    "Скопируйте и модифицируйте код из первой задачи таким образом, чтобы четные (по значению) элементы при выводе были заменены на отрицательное значение квадрата их индекса.\n",
    "\n",
    "Аналогично первой задаче, каждый элемент должен быть выведен в отдельной строке.\n",
    "\n",
    "Пример вывода для `n = 2` и `k = 8`:\n",
    "\n",
    "`1`\n",
    "\n",
    "`-9`\n",
    "\n",
    "`3`\n",
    "\n",
    "`5`\n",
    "\n",
    "`-36`\n",
    "\n",
    "`13`\n",
    "\n",
    "`21`"
   ]
  },
  {
   "cell_type": "markdown",
   "metadata": {
    "id": "_Yk3bi-a9iHE"
   },
   "source": [
    "#### Решение"
   ]
  },
  {
   "cell_type": "code",
   "execution_count": null,
   "metadata": {
    "colab": {
     "base_uri": "https://localhost:8080/"
    },
    "executionInfo": {
     "elapsed": 974,
     "status": "ok",
     "timestamp": 1678720399238,
     "user": {
      "displayName": "Atom11_086",
      "userId": "12316745591329105084"
     },
     "user_tz": -240
    },
    "id": "uNpNyG_M9iHE",
    "outputId": "fe839403-0e89-4ca7-c361-207617f35b36"
   },
   "outputs": [
    {
     "name": "stdout",
     "output_type": "stream",
     "text": [
      "1\n",
      "-9\n",
      "3\n",
      "5\n",
      "-36\n",
      "13\n",
      "21\n"
     ]
    }
   ],
   "source": [
    "# вставить код сюда\n",
    "f_0, f_1 = 0, 1\n",
    "n = 2\n",
    "k = 8\n",
    "for i in range(2, k+1):\n",
    "  f_0, f_1 = f_1, f_1 + f_0\n",
    "  if n > i > k:\n",
    "    continue\n",
    "  result = 0\n",
    "  if f_1 % 2 == 0:\n",
    "    result = -i*i\n",
    "  else:\n",
    "    result = f_1\n",
    "  print(result)"
   ]
  },
  {
   "cell_type": "markdown",
   "metadata": {
    "id": "hoXHPmaI9iHE"
   },
   "source": [
    "### Задача № 3\n",
    "\n",
    "Посчитайте сумму элементов полученной на предыдущем шаге последовательности (и снова копипаст алгоритма вам в помощь), найдите значение и индекс максимального и минимального элементов.\n",
    "\n",
    "Пример вывода для `n = 2` и `k = 8`:\n",
    "\n",
    "`Sum: -2`\n",
    "\n",
    "`Max: 21, Index: 8`\n",
    "\n",
    "`Min: -36, Index: 6`"
   ]
  },
  {
   "cell_type": "markdown",
   "metadata": {
    "id": "TCnNR4Ns9iHF"
   },
   "source": [
    "#### Решение"
   ]
  },
  {
   "cell_type": "code",
   "execution_count": null,
   "metadata": {
    "colab": {
     "base_uri": "https://localhost:8080/"
    },
    "executionInfo": {
     "elapsed": 1211,
     "status": "ok",
     "timestamp": 1678720412230,
     "user": {
      "displayName": "Atom11_086",
      "userId": "12316745591329105084"
     },
     "user_tz": -240
    },
    "id": "6va67ZnF9iHF",
    "outputId": "1408a765-006c-4d81-8aad-22f6e7fe193d"
   },
   "outputs": [
    {
     "name": "stdout",
     "output_type": "stream",
     "text": [
      "Sum: -2\n",
      "Max: 21, Index: 8\n",
      "Min: -36, Index: 6\n"
     ]
    }
   ],
   "source": [
    "# вставить код сюда\n",
    "f_0, f_1 = 0, 1\n",
    "n,k = 2, 8\n",
    "max, max_index = 0, 0\n",
    "min, min_index = 0, 0\n",
    "sum = 0\n",
    "for i in range(2, k+1):\n",
    "  f_0, f_1 = f_1, f_1 + f_0\n",
    "  if n <= i <= k:\n",
    "    result = 0\n",
    "\n",
    "    if f_1 % 2 == 0:\n",
    "      result = -i*i\n",
    "    else:\n",
    "      result = f_1\n",
    "\n",
    "    # calc sum\n",
    "    sum += result\n",
    "\n",
    "    # init min\n",
    "    if i == n:\n",
    "      min = result\n",
    "\n",
    "    # Search min & max\n",
    "    if result > max:\n",
    "      max = result\n",
    "      max_index = i\n",
    "    elif result < min:\n",
    "      min = result\n",
    "      min_index = i\n",
    "\n",
    "print('Sum: %s' % sum)\n",
    "print('Max: %s, Index: %s' % (max, max_index))\n",
    "print('Min: %s, Index: %s' % (min, min_index))\n"
   ]
  },
  {
   "cell_type": "markdown",
   "metadata": {
    "id": "1XAvvcMy9iHF"
   },
   "source": [
    "### Задача № 4\n",
    "\n",
    "Скопируйте и модифицируйте код из первой задачи. Выведите только те элементы последовательности, у которых сумма цифр делится на 3 без остатка.\n",
    "\n",
    "Аналогично первой задаче, каждый элемент должен быть выведен в отдельной строке.\n",
    "\n",
    "Пример вывода для `n = 2` и `k = 8`:\n",
    "\n",
    "`3`\n",
    "\n",
    "`21`"
   ]
  },
  {
   "cell_type": "markdown",
   "metadata": {
    "id": "kf4xtfNp9iHF"
   },
   "source": [
    "#### Решение"
   ]
  },
  {
   "cell_type": "code",
   "execution_count": 1,
   "metadata": {
    "colab": {
     "base_uri": "https://localhost:8080/"
    },
    "executionInfo": {
     "elapsed": 5,
     "status": "ok",
     "timestamp": 1698654775169,
     "user": {
      "displayName": "ist2023",
      "userId": "10876802796783356597"
     },
     "user_tz": -240
    },
    "id": "rC5gdxyF9iHF",
    "outputId": "f2c52a17-743d-4bfb-e281-fc53e0d802c8"
   },
   "outputs": [
    {
     "name": "stdout",
     "output_type": "stream",
     "text": [
      "3\n",
      "21\n"
     ]
    }
   ],
   "source": [
    "# вставить код сюда\n",
    "f_0, f_1 = 0, 1\n",
    "n = 2\n",
    "k = 8\n",
    "for i in range(2, k+1):\n",
    "  f_0, f_1 = f_1, f_1 + f_0\n",
    "  if n > i > k or f_1 % 3 != 0:\n",
    "    continue\n",
    "  print(f_1)"
   ]
  }
 ],
 "metadata": {
  "colab": {
   "provenance": []
  },
  "kernelspec": {
   "display_name": "Python 3 (ipykernel)",
   "language": "python",
   "name": "python3"
  },
  "language_info": {
   "codemirror_mode": {
    "name": "ipython",
    "version": 3
   },
   "file_extension": ".py",
   "mimetype": "text/x-python",
   "name": "python",
   "nbconvert_exporter": "python",
   "pygments_lexer": "ipython3",
   "version": "3.11.3"
  }
 },
 "nbformat": 4,
 "nbformat_minor": 1
}
